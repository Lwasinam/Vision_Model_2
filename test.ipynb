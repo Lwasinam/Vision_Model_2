{
 "cells": [
  {
   "cell_type": "code",
   "execution_count": 1,
   "metadata": {},
   "outputs": [],
   "source": [
    "import torch\n",
    "import torch.nn as nn"
   ]
  },
  {
   "cell_type": "code",
   "execution_count": 1,
   "metadata": {},
   "outputs": [
    {
     "name": "stdout",
     "output_type": "stream",
     "text": [
      "Function executed after delay\n"
     ]
    }
   ],
   "source": [
    "import threading\n",
    "\n",
    "def delayed_function():\n",
    "    print(\"Function executed after delay\")\n",
    "\n",
    "# Set the delay time in minutes\n",
    "minutes = 5\n",
    "delay_in_seconds = minutes * 60\n",
    "\n",
    "timer = threading.Timer(delay_in_seconds, delayed_function)\n",
    "timer.start()\n",
    "\n"
   ]
  },
  {
   "cell_type": "code",
   "execution_count": 1,
   "metadata": {},
   "outputs": [
    {
     "name": "stdout",
     "output_type": "stream",
     "text": [
      "Hello world\n"
     ]
    }
   ],
   "source": [
    "print(\"Hello world\")"
   ]
  },
  {
   "cell_type": "code",
   "execution_count": 49,
   "metadata": {},
   "outputs": [],
   "source": [
    "def gene():\n",
    "    yield 3, 5"
   ]
  },
  {
   "cell_type": "code",
   "execution_count": 50,
   "metadata": {},
   "outputs": [],
   "source": [
    "jane = iter(gene())"
   ]
  },
  {
   "cell_type": "code",
   "execution_count": 51,
   "metadata": {},
   "outputs": [
    {
     "name": "stdout",
     "output_type": "stream",
     "text": [
      "3 5\n"
     ]
    }
   ],
   "source": [
    "for i, j in jane:\n",
    "    print(i, j)"
   ]
  },
  {
   "cell_type": "code",
   "execution_count": 18,
   "metadata": {},
   "outputs": [
    {
     "data": {
      "text/plain": [
       "tensor([[-1.2433, -0.0200,  1.5530,  2.2575,  0.8105],\n",
       "        [-0.6525, -0.6023, -0.2525, -0.2840, -1.3253]])"
      ]
     },
     "execution_count": 18,
     "metadata": {},
     "output_type": "execute_result"
    }
   ],
   "source": [
    "reg_tokens = torch.randn(2,5)\n",
    "reg_tokens"
   ]
  },
  {
   "cell_type": "code",
   "execution_count": 19,
   "metadata": {},
   "outputs": [],
   "source": [
    "reg_tokens = reg_tokens.unsqueeze(0).expand(3, -1, -1)"
   ]
  },
  {
   "cell_type": "code",
   "execution_count": 20,
   "metadata": {},
   "outputs": [
    {
     "data": {
      "text/plain": [
       "tensor([[[-1.2433, -0.0200,  1.5530,  2.2575,  0.8105],\n",
       "         [-0.6525, -0.6023, -0.2525, -0.2840, -1.3253],\n",
       "         [-0.1659, -0.9388,  0.6628, -1.5565, -1.0780],\n",
       "         [ 0.5800, -0.4549,  1.8482, -1.0268, -0.6153],\n",
       "         [-2.5091,  1.0948, -0.1935, -0.1528, -0.8178],\n",
       "         [ 0.3861,  1.1213, -1.1999, -0.1678,  0.5947]],\n",
       "\n",
       "        [[-1.2433, -0.0200,  1.5530,  2.2575,  0.8105],\n",
       "         [-0.6525, -0.6023, -0.2525, -0.2840, -1.3253],\n",
       "         [-0.1285, -0.3475, -0.5785, -0.3763,  0.9936],\n",
       "         [ 0.8321,  0.7062, -0.5248, -0.3061,  1.8417],\n",
       "         [-1.3570,  0.3023,  0.4551, -0.1432,  0.6302],\n",
       "         [-0.5672,  1.9631,  0.1631,  0.2149,  0.1651]],\n",
       "\n",
       "        [[-1.2433, -0.0200,  1.5530,  2.2575,  0.8105],\n",
       "         [-0.6525, -0.6023, -0.2525, -0.2840, -1.3253],\n",
       "         [ 0.4672,  0.1498, -1.0688,  0.3673, -2.0819],\n",
       "         [ 0.8207,  0.2855, -0.9440, -0.2169, -0.5408],\n",
       "         [ 0.4571,  0.3111,  0.2019, -0.2787, -0.3816],\n",
       "         [-2.8353,  0.1454, -0.3654, -1.8087, -0.3220]]])"
      ]
     },
     "execution_count": 20,
     "metadata": {},
     "output_type": "execute_result"
    }
   ],
   "source": [
    "torch.cat([reg_tokens, x], dim=1)"
   ]
  }
 ],
 "metadata": {
  "kernelspec": {
   "display_name": "Python 3",
   "language": "python",
   "name": "python3"
  },
  "language_info": {
   "codemirror_mode": {
    "name": "ipython",
    "version": 3
   },
   "file_extension": ".py",
   "mimetype": "text/x-python",
   "name": "python",
   "nbconvert_exporter": "python",
   "pygments_lexer": "ipython3",
   "version": "3.12.1"
  }
 },
 "nbformat": 4,
 "nbformat_minor": 2
}
